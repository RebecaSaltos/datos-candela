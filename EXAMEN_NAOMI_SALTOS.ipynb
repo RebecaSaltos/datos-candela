{
  "nbformat": 4,
  "nbformat_minor": 0,
  "metadata": {
    "colab": {
      "name": "EXAMEN NAOMI SALTOS.ipynb",
      "provenance": [],
      "collapsed_sections": [],
      "include_colab_link": true
    },
    "kernelspec": {
      "name": "ir",
      "display_name": "R"
    },
    "language_info": {
      "name": "R"
    }
  },
  "cells": [
    {
      "cell_type": "markdown",
      "metadata": {
        "id": "view-in-github",
        "colab_type": "text"
      },
      "source": [
        "<a href=\"https://colab.research.google.com/github/RebecaSaltos/datos-candela/blob/main/EXAMEN_NAOMI_SALTOS.ipynb\" target=\"_parent\"><img src=\"https://colab.research.google.com/assets/colab-badge.svg\" alt=\"Open In Colab\"/></a>"
      ]
    },
    {
      "cell_type": "markdown",
      "metadata": {
        "id": "nAYO3dWekZYh"
      },
      "source": [
        "# **EXAMEN MEDIO CICLO** - BIOESTADISTICA - **CUARTO \"C\"**"
      ]
    },
    {
      "cell_type": "markdown",
      "metadata": {
        "id": "MvVF9zMklkBW"
      },
      "source": [
        "## *NAOMI REBECA SALTOS CANDELA*"
      ]
    },
    {
      "cell_type": "markdown",
      "metadata": {
        "id": "uY0aT-VMO-Zw"
      },
      "source": [
        "Los tiempos de reacción, en mili segundos, de 17 sujetos frente a una matriz de 15 estímulos fueron los siguientes: 448, 460, 514, 488, 592, 490, 507, 513, 492, 534,523, 452, 464, 562, 584, 507, 461. ¿Con un nivel de significancia alfa=0.05 los datos presentan normalidad?"
      ]
    },
    {
      "cell_type": "code",
      "metadata": {
        "id": "1anrsOGBPFBX"
      },
      "source": [
        "tiempo<-c(448, 460, 514, 488, 592, 490, 507, 513, 492, 534,523, 452, 464, 562, 584, 507, 461)"
      ],
      "execution_count": 7,
      "outputs": []
    },
    {
      "cell_type": "code",
      "metadata": {
        "colab": {
          "base_uri": "https://localhost:8080/",
          "height": 102
        },
        "id": "ofgCYuTEPV7F",
        "outputId": "21c23a4c-324a-4747-af01-172256f64b25"
      },
      "source": [
        "shapiro.test(tiempo)"
      ],
      "execution_count": 8,
      "outputs": [
        {
          "output_type": "display_data",
          "data": {
            "text/plain": [
              "\n",
              "\tShapiro-Wilk normality test\n",
              "\n",
              "data:  tiempo\n",
              "W = 0.93112, p-value = 0.2272\n"
            ]
          },
          "metadata": {}
        }
      ]
    },
    {
      "cell_type": "markdown",
      "metadata": {
        "id": "I2c5DKBHPdXo"
      },
      "source": [
        "Se sabe que la probabilidad de que un individuo reaccione desfavorablemente tras la inyección de una vacuna es de 0.002. Determine la probabilidad de que en un grupo de 2000 personas vacunadas haya tres que reaccionen desfavorablemente."
      ]
    },
    {
      "cell_type": "code",
      "metadata": {
        "id": "w5GLHitGPYc0"
      },
      "source": [
        "#p=0.002\n",
        "#n=2000"
      ],
      "execution_count": 9,
      "outputs": []
    },
    {
      "cell_type": "code",
      "metadata": {
        "colab": {
          "base_uri": "https://localhost:8080/",
          "height": 34
        },
        "id": "3TACkH8-QcvW",
        "outputId": "51858c78-b25d-47f8-a2e5-15081ddc0306"
      },
      "source": [
        "dbinom(3,2000,0.002)*100"
      ],
      "execution_count": 10,
      "outputs": [
        {
          "output_type": "display_data",
          "data": {
            "text/plain": [
              "[1] 19.54645"
            ],
            "text/latex": "19.5464530716341",
            "text/markdown": "19.5464530716341",
            "text/html": [
              "19.5464530716341"
            ]
          },
          "metadata": {}
        }
      ]
    },
    {
      "cell_type": "markdown",
      "metadata": {
        "id": "9RLDRlj5QsDI"
      },
      "source": [
        "En un hospital el número medio de pacientes con dolor abdominal atendidos por día es 16. Calcular la probabilidad de que en un día determinado haya como máximo 25 pacientes con dolor abdominal."
      ]
    },
    {
      "cell_type": "code",
      "metadata": {
        "id": "xfGBJOwjQ9oR"
      },
      "source": [
        "#lammda=16"
      ],
      "execution_count": 4,
      "outputs": []
    },
    {
      "cell_type": "code",
      "metadata": {
        "colab": {
          "base_uri": "https://localhost:8080/",
          "height": 34
        },
        "id": "YuPzGAUFREfB",
        "outputId": "f8360d7b-b428-4759-db08-cae047de8b1e"
      },
      "source": [
        "#(P<=25)\n",
        "ppois(25,16)*100"
      ],
      "execution_count": 5,
      "outputs": [
        {
          "output_type": "display_data",
          "data": {
            "text/plain": [
              "[1] 98.68814"
            ],
            "text/latex": "98.6881437112417",
            "text/markdown": "98.6881437112417",
            "text/html": [
              "98.6881437112417"
            ]
          },
          "metadata": {}
        }
      ]
    },
    {
      "cell_type": "markdown",
      "metadata": {
        "id": "YnAMuouLR1Sv"
      },
      "source": [
        "Determinar un intervalo de confianza al nivel a=0.10 para la probabilidad de que un recién nacido sea niño, si en una muestra de tamaño 123 se han contabilizado 67 niños."
      ]
    },
    {
      "cell_type": "code",
      "metadata": {
        "id": "b1TqitpzR3fR"
      },
      "source": [
        "z=1.645\n",
        "p=0.544715447154472\n",
        "n=123"
      ],
      "execution_count": 6,
      "outputs": []
    },
    {
      "cell_type": "code",
      "metadata": {
        "colab": {
          "base_uri": "https://localhost:8080/",
          "height": 34
        },
        "id": "cShQzJuwSDey",
        "outputId": "21551ed0-cbe7-4ea2-ebd0-8bb449ee8514"
      },
      "source": [
        "p + (z*(sqrt((p*0.46)/n)))"
      ],
      "execution_count": 11,
      "outputs": [
        {
          "output_type": "display_data",
          "data": {
            "text/plain": [
              "[1] 0.6189621"
            ],
            "text/latex": "0.618962139026119",
            "text/markdown": "0.618962139026119",
            "text/html": [
              "0.618962139026119"
            ]
          },
          "metadata": {}
        }
      ]
    },
    {
      "cell_type": "code",
      "metadata": {
        "colab": {
          "base_uri": "https://localhost:8080/",
          "height": 34
        },
        "id": "QCkMxYaoSOgF",
        "outputId": "2c8755d0-1a8b-43df-9347-17b6fb711b4f"
      },
      "source": [
        "p - (z*(sqrt((p*0.46)/n)))"
      ],
      "execution_count": 12,
      "outputs": [
        {
          "output_type": "display_data",
          "data": {
            "text/plain": [
              "[1] 0.4704688"
            ],
            "text/latex": "0.470468755282825",
            "text/markdown": "0.470468755282825",
            "text/html": [
              "0.470468755282825"
            ]
          },
          "metadata": {}
        }
      ]
    },
    {
      "cell_type": "code",
      "metadata": {
        "id": "1FXl6t7SSXAW"
      },
      "source": [
        "#IC PARA ESTIMAR LA PROPORCION\n",
        "int.conf.p <- function(p, n, ic = 90){\n",
        "  error.est.p <- sqrt((p*(1-p))/n)\n",
        "  beta <- 1-(((100-ic)/100)/2)\n",
        "  error <- error.est.p * qt(beta, df = n-1)\n",
        "  lim.inf.p <- p - error\n",
        "  lim.sup.p <- p + error\n",
        "  result.p <- data.frame(p, n, error.est.p, error,\n",
        "                         lim.inf.p, lim.sup.p)\n",
        "  return(result.p)\n",
        "}"
      ],
      "execution_count": 13,
      "outputs": []
    },
    {
      "cell_type": "code",
      "metadata": {
        "colab": {
          "base_uri": "https://localhost:8080/",
          "height": 128
        },
        "id": "aQU7Mu6nUzVO",
        "outputId": "075a5e20-0d98-44b1-be16-8761e6b19451"
      },
      "source": [
        "int.conf.p(67/123,123)"
      ],
      "execution_count": 14,
      "outputs": [
        {
          "output_type": "display_data",
          "data": {
            "text/plain": [
              "  p         n   error.est.p error      lim.inf.p lim.sup.p\n",
              "1 0.5447154 123 0.04490283  0.07442373 0.4702917 0.6191392"
            ],
            "text/latex": "A data.frame: 1 × 6\n\\begin{tabular}{llllll}\n p & n & error.est.p & error & lim.inf.p & lim.sup.p\\\\\n <dbl> & <dbl> & <dbl> & <dbl> & <dbl> & <dbl>\\\\\n\\hline\n\t 0.5447154 & 123 & 0.04490283 & 0.07442373 & 0.4702917 & 0.6191392\\\\\n\\end{tabular}\n",
            "text/markdown": "\nA data.frame: 1 × 6\n\n| p &lt;dbl&gt; | n &lt;dbl&gt; | error.est.p &lt;dbl&gt; | error &lt;dbl&gt; | lim.inf.p &lt;dbl&gt; | lim.sup.p &lt;dbl&gt; |\n|---|---|---|---|---|---|\n| 0.5447154 | 123 | 0.04490283 | 0.07442373 | 0.4702917 | 0.6191392 |\n\n",
            "text/html": [
              "<table class=\"dataframe\">\n",
              "<caption>A data.frame: 1 × 6</caption>\n",
              "<thead>\n",
              "\t<tr><th scope=col>p</th><th scope=col>n</th><th scope=col>error.est.p</th><th scope=col>error</th><th scope=col>lim.inf.p</th><th scope=col>lim.sup.p</th></tr>\n",
              "\t<tr><th scope=col>&lt;dbl&gt;</th><th scope=col>&lt;dbl&gt;</th><th scope=col>&lt;dbl&gt;</th><th scope=col>&lt;dbl&gt;</th><th scope=col>&lt;dbl&gt;</th><th scope=col>&lt;dbl&gt;</th></tr>\n",
              "</thead>\n",
              "<tbody>\n",
              "\t<tr><td>0.5447154</td><td>123</td><td>0.04490283</td><td>0.07442373</td><td>0.4702917</td><td>0.6191392</td></tr>\n",
              "</tbody>\n",
              "</table>\n"
            ]
          },
          "metadata": {}
        }
      ]
    },
    {
      "cell_type": "markdown",
      "metadata": {
        "id": "1zFkiglIVqIw"
      },
      "source": [
        "La probabilidad de que una persona se desmaye en un concierto es p=0.005. ¿Cuál es la probabilidad de que en un concierto al que asisten 3000 personas se desmayen como máximo 18?"
      ]
    },
    {
      "cell_type": "code",
      "metadata": {
        "id": "h4WA1VojVwmk"
      },
      "source": [
        "#p=0.005\n",
        "#n=3000"
      ],
      "execution_count": 2,
      "outputs": []
    },
    {
      "cell_type": "code",
      "metadata": {
        "colab": {
          "base_uri": "https://localhost:8080/",
          "height": 34
        },
        "id": "XeE7dKUCV6_X",
        "outputId": "b2c703c8-5938-41dc-d8e1-12b24afaf222"
      },
      "source": [
        "#(P<=18)\n",
        "pbinom(18,3000,0.005)*100"
      ],
      "execution_count": 3,
      "outputs": [
        {
          "output_type": "display_data",
          "data": {
            "text/plain": [
              "[1] 82.00031"
            ],
            "text/latex": "82.0003124508445",
            "text/markdown": "82.0003124508445",
            "text/html": [
              "82.0003124508445"
            ]
          },
          "metadata": {}
        }
      ]
    },
    {
      "cell_type": "markdown",
      "metadata": {
        "id": "iCwoVnDbWDTg"
      },
      "source": [
        "Los tiempos de reacción, en mili segundos, de 17 sujetos frente a una matriz de 15 estímulos fueron los siguientes: 448, 460, 514, 488, 592, 490, 507, 513, 492, 534,523, 452, 464, 562, 584, 507, determine a un nivel de confianza del 95% si la media del tiempo de reacción es igual a 530.87."
      ]
    },
    {
      "cell_type": "code",
      "metadata": {
        "colab": {
          "base_uri": "https://localhost:8080/",
          "height": 51
        },
        "id": "55VBecYoWiLW",
        "outputId": "d621edcf-c225-4706-d739-5b8774b98d28"
      },
      "source": [
        "Vtiempo<- c(448, 460, 514, 488, 592, 490, 507, 513, 492, 534,523, 452, 464, 562, 584, 507)\n",
        "mean(Vtiempo)\n",
        "var(Vtiempo)"
      ],
      "execution_count": 15,
      "outputs": [
        {
          "output_type": "display_data",
          "data": {
            "text/plain": [
              "[1] 508.125"
            ],
            "text/latex": "508.125",
            "text/markdown": "508.125",
            "text/html": [
              "508.125"
            ]
          },
          "metadata": {}
        },
        {
          "output_type": "display_data",
          "data": {
            "text/plain": [
              "[1] 1911.183"
            ],
            "text/latex": "1911.18333333333",
            "text/markdown": "1911.18333333333",
            "text/html": [
              "1911.18333333333"
            ]
          },
          "metadata": {}
        }
      ]
    },
    {
      "cell_type": "code",
      "metadata": {
        "id": "NOULxgO1dM2n"
      },
      "source": [
        "#Datos\n",
        "n=17\n",
        "#σ=0.05\n",
        "#x̄= 508.125\n",
        "var=1911.18333333333\n",
        "#grados de libertad = 17-1"
      ],
      "execution_count": 16,
      "outputs": []
    },
    {
      "cell_type": "code",
      "metadata": {
        "id": "HFh03z1WdgTK"
      },
      "source": [
        "#tabla Chi Cuadrado\n",
        "\n",
        "#Límite superior\n",
        "#1-∝= 1-0,90\n",
        "#1-∝= 0,10\n",
        "#∝/2= 0,05\n",
        "#X(1-∝/2) : 0,95 \n",
        "lim_s = 7.9616\n",
        "\n",
        "#Límite inferior\n",
        "#1-∝= 0,10\n",
        "#∝/2= 0,05\n",
        "#X(∝/2) = 0,05 \n",
        "lim_i = 26.2962"
      ],
      "execution_count": 17,
      "outputs": []
    },
    {
      "cell_type": "code",
      "metadata": {
        "colab": {
          "base_uri": "https://localhost:8080/",
          "height": 51
        },
        "id": "Z-bY51ZWdiXD",
        "outputId": "7624a77f-844d-4d50-f73c-d1c4d471225e"
      },
      "source": [
        "#Limite superior\n",
        "(n*var)/lim_s\n",
        "#Limite inferior\n",
        "(n*var)/lim_i"
      ],
      "execution_count": 18,
      "outputs": [
        {
          "output_type": "display_data",
          "data": {
            "text/plain": [
              "[1] 4080.853"
            ],
            "text/latex": "4080.85267617899",
            "text/markdown": "4080.85267617899",
            "text/html": [
              "4080.85267617899"
            ]
          },
          "metadata": {}
        },
        {
          "output_type": "display_data",
          "data": {
            "text/plain": [
              "[1] 1235.544"
            ],
            "text/latex": "1235.54417241528",
            "text/markdown": "1235.54417241528",
            "text/html": [
              "1235.54417241528"
            ]
          },
          "metadata": {}
        }
      ]
    }
  ]
}